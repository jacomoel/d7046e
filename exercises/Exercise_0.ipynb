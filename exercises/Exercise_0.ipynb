{
 "cells": [
  {
   "cell_type": "markdown",
   "metadata": {
    "collapsed": false,
    "id": "pntmSVkMXXzQ",
    "jupyter": {
     "outputs_hidden": false
    }
   },
   "source": [
    "# D7046E Exercise 0 - Getting started with Python, Jupyter, and PyTorch\n",
    "\n",
    "**After completing this exercise you should complete the Assignment quiz in Canvas to self-assess your understanding. Your code/solution of this exercise should not be submitted and will not be assessed by a teacher. This exercise is required as preparation before the next exercise, so please make sure that you understand the following before continuing.**\n",
    "\n",
    "In this exercise you will perform some machine learning programming tasks aiming to a) introduce the programming environment and b) learn how to implement basic machine learning models including a neural network. In the subsequent exercises in the course you will learn more about how neural networks function and how different types of neural networks can be implemented and used.\n",
    "\n",
    "This exercise is split in two parts. First, you will train some basic machine learning models that aren't neural networks using [scikit-learn](https://scikit-learn.org/). Secondly, you will implement and train an artificial neural network (ANN) using [pytorch](https://pytorch.org/).\n",
    "\n",
    "In order to train a model with machine learning, we require one thing above all else: *data*! We need data that contains information about the desired input-ouput relationship so that we can optimize a machine-learning model, $y=f(x,theta)$, where the variables are vectors/tensors and $theta$ are *trainable parameters* that are optimized so that the model fits the data. This typically involves minimizing the error of the model, often refered to *loss*, to whatever task and data we have at hand.\n",
    "\n",
    "The data that you will use in this task is a subset of the [MNIST](http://yann.lecun.com/exdb/mnist/) dataset, which contains handwritten numbers from 0-9. Some samples from the dataset can be seen in the image below.\n",
    "\n",
    "![MNIST digits](https://upload.wikimedia.org/wikipedia/commons/2/27/MnistExamples.png)\n",
    "\n",
    "Your task is to train machine learning models that can classify samples from the MNIST dataset. This illustrates how machine learning can be used to solve problems that are diffcult (if not impossible) to program \"bottom-up\" from first principles. It will also introduce concepts needed to tackle more complex machine learning tasks with PyTorch and Scikit-Learn.\n",
    "\n",
    "Before you start this exercise it is recommended that you read the \"Getting ready for the Exercises\" PDF that can be found in Canvas. The first cell below will check if everything seems to be installed correctly, if not, first check the instructions in the PDF. If the problem persists, please describe the issue in the discussion group for exercises in Canvas.\n",
    "\n",
    "Press the CONTROL + ENTER keys to run a selected block of code or text. Double click text blocks to edit them and press CONTROL + ENTER to turn it back into text. Whenever you've updated some code in a cell you need to run it again to execute those changes. If the changes in that cell is used in another cell you need to run that cell again as well."
   ]
  },
  {
   "cell_type": "code",
   "execution_count": 1,
   "metadata": {
    "ExecuteTime": {
     "end_time": "2024-01-09T11:03:24.907991900Z",
     "start_time": "2024-01-09T11:03:24.898016400Z"
    },
    "colab": {
     "base_uri": "https://localhost:8080/"
    },
    "id": "nlwPx3jhXXzS",
    "outputId": "4bc8df95-42d5-4a88-e673-ffeb41c08bfb"
   },
   "outputs": [
    {
     "name": "stdout",
     "output_type": "stream",
     "text": [
      "The installation seems to be working!\n"
     ]
    }
   ],
   "source": [
    "# Importing packages\n",
    "import torch\n",
    "import torch.nn as nn\n",
    "import torch.nn.functional as F\n",
    "from torch.nn.functional import one_hot as to_onehot\n",
    "import torch.optim as optim\n",
    "from torch.utils.data import DataLoader\n",
    "import torchvision\n",
    "from torchvision import datasets, transforms\n",
    "import matplotlib.pyplot as plt\n",
    "import numpy\n",
    "import copy\n",
    "\n",
    "from sklearn.linear_model import LinearRegression, SGDClassifier\n",
    "from sklearn.tree import DecisionTreeClassifier\n",
    "from sklearn.metrics import accuracy_score\n",
    "from sklearn.preprocessing import StandardScaler\n",
    "\n",
    "print('The installation seems to be working!')"
   ]
  },
  {
   "cell_type": "markdown",
   "metadata": {
    "collapsed": false,
    "id": "6ayIPDpbXXzU",
    "jupyter": {
     "outputs_hidden": false
    }
   },
   "source": [
    "## Literature\n",
    "Before starting programming you may want to read Chapter 5 in the [deep learning book](https://www.deeplearningbook.org/). This will help you understand the basics of machine learning. See in particular the following parts:\n",
    "\n",
    "* Chapter 5 - Machine learning basics\n",
    "    - Section 5.1 - Explains the basics of what we mean by learning and what supervised learning is (including linear regression).\n",
    "    - Section 5.2 - Talks about generalization, the generalization gap and under/overfitting.\n",
    "    - Section 5.3 - Validation and validation set.\n",
    "\n",
    "If you are already familiar with the basics of machine learning you can skip that chapter and continue with the exercise.\n",
    "\n",
    "## MNIST dataset preparation\n",
    "Start by downloading and preparing the data so that it is usable for our purposes. MNIST consist of 70,000 grayscale images of size 28x28 pixels each. Our goal is to train models that can recognize what digit an image represents. The code below gets the dataset (downloads it if necessary) and displays one of the images."
   ]
  },
  {
   "cell_type": "code",
   "execution_count": 2,
   "metadata": {
    "ExecuteTime": {
     "end_time": "2024-01-09T11:15:19.865087Z",
     "start_time": "2024-01-09T11:15:19.637720100Z"
    },
    "colab": {
     "base_uri": "https://localhost:8080/",
     "height": 430
    },
    "id": "GkM5oD6AXXzV",
    "outputId": "3ba20476-3ad3-465d-b152-5da9ec89afdb"
   },
   "outputs": [
    {
     "name": "stdout",
     "output_type": "stream",
     "text": [
      "Downloading http://yann.lecun.com/exdb/mnist/train-images-idx3-ubyte.gz\n",
      "Failed to download (trying next):\n",
      "<urlopen error [WinError 10061] No connection could be made because the target machine actively refused it>\n",
      "\n",
      "Downloading https://ossci-datasets.s3.amazonaws.com/mnist/train-images-idx3-ubyte.gz\n",
      "Downloading https://ossci-datasets.s3.amazonaws.com/mnist/train-images-idx3-ubyte.gz to ./MNIST\\raw\\train-images-idx3-ubyte.gz\n"
     ]
    },
    {
     "name": "stderr",
     "output_type": "stream",
     "text": [
      "100.0%\n"
     ]
    },
    {
     "name": "stdout",
     "output_type": "stream",
     "text": [
      "Extracting ./MNIST\\raw\\train-images-idx3-ubyte.gz to ./MNIST\\raw\n",
      "\n",
      "Downloading http://yann.lecun.com/exdb/mnist/train-labels-idx1-ubyte.gz\n",
      "Failed to download (trying next):\n",
      "<urlopen error [WinError 10061] No connection could be made because the target machine actively refused it>\n",
      "\n",
      "Downloading https://ossci-datasets.s3.amazonaws.com/mnist/train-labels-idx1-ubyte.gz\n",
      "Downloading https://ossci-datasets.s3.amazonaws.com/mnist/train-labels-idx1-ubyte.gz to ./MNIST\\raw\\train-labels-idx1-ubyte.gz\n"
     ]
    },
    {
     "name": "stderr",
     "output_type": "stream",
     "text": [
      "100.0%\n"
     ]
    },
    {
     "name": "stdout",
     "output_type": "stream",
     "text": [
      "Extracting ./MNIST\\raw\\train-labels-idx1-ubyte.gz to ./MNIST\\raw\n",
      "\n",
      "Downloading http://yann.lecun.com/exdb/mnist/t10k-images-idx3-ubyte.gz\n",
      "Failed to download (trying next):\n",
      "<urlopen error [WinError 10060] A connection attempt failed because the connected party did not properly respond after a period of time, or established connection failed because connected host has failed to respond>\n",
      "\n",
      "Downloading https://ossci-datasets.s3.amazonaws.com/mnist/t10k-images-idx3-ubyte.gz\n",
      "Downloading https://ossci-datasets.s3.amazonaws.com/mnist/t10k-images-idx3-ubyte.gz to ./MNIST\\raw\\t10k-images-idx3-ubyte.gz\n"
     ]
    },
    {
     "name": "stderr",
     "output_type": "stream",
     "text": [
      "100.0%\n"
     ]
    },
    {
     "name": "stdout",
     "output_type": "stream",
     "text": [
      "Extracting ./MNIST\\raw\\t10k-images-idx3-ubyte.gz to ./MNIST\\raw\n",
      "\n",
      "Downloading http://yann.lecun.com/exdb/mnist/t10k-labels-idx1-ubyte.gz\n",
      "Failed to download (trying next):\n",
      "<urlopen error [WinError 10061] No connection could be made because the target machine actively refused it>\n",
      "\n",
      "Downloading https://ossci-datasets.s3.amazonaws.com/mnist/t10k-labels-idx1-ubyte.gz\n",
      "Downloading https://ossci-datasets.s3.amazonaws.com/mnist/t10k-labels-idx1-ubyte.gz to ./MNIST\\raw\\t10k-labels-idx1-ubyte.gz\n"
     ]
    },
    {
     "name": "stderr",
     "output_type": "stream",
     "text": [
      "100.0%\n"
     ]
    },
    {
     "name": "stdout",
     "output_type": "stream",
     "text": [
      "Extracting ./MNIST\\raw\\t10k-labels-idx1-ubyte.gz to ./MNIST\\raw\n",
      "\n"
     ]
    },
    {
     "data": {
      "image/png": "[encoded data removed]",
      "text/plain": [
       "<Figure size 640x480 with 1 Axes>"
      ]
     },
     "metadata": {},
     "output_type": "display_data"
    }
   ],
   "source": [
    "# Get the training split of the MNIST dataset, the ToTensor makes sure we get the data as tensors, not images\n",
    "mnist_train = torchvision.datasets.MNIST('./', train=True, download=True, transform=torchvision.transforms.ToTensor())\n",
    "\n",
    "mnist_test = torchvision.datasets.MNIST('./', train=False, download=True, transform=torchvision.transforms.ToTensor())\n",
    "# Create a DataLoader from the dataset that we'll use to get batches of data during training\n",
    "train_loader = torch.utils.data.DataLoader(mnist_train, batch_size=1000, shuffle=False)\n",
    "test_loader = torch.utils.data.DataLoader(mnist_test, batch_size=1000, shuffle=False)\n",
    "\n",
    "# Function that takes an MNIST tensor and shows the image\n",
    "def plot_digit(data):\n",
    "    # Transfrom the images into an appropriate shape for displaying\n",
    "    data = data.view(28,28)\n",
    "    plt.imshow(data, cmap='gray')\n",
    "    plt.show()\n",
    "\n",
    "# Get the first batch of images and labels from the DataLoader\n",
    "images, labels = next(iter(test_loader))\n",
    "\n",
    "# Plot the first image of the batch\n",
    "plot_digit(images[0])"
   ]
  },
  {
   "cell_type": "markdown",
   "metadata": {
    "collapsed": false,
    "id": "CAEfbk6uXXzW",
    "jupyter": {
     "outputs_hidden": false
    }
   },
   "source": [
    "\n",
    "## Task 1\n",
    "\n",
    "Neural Networks are just one part of the large field of machine learning. Many machine learning models exist that does not fall under the umbrella of neural networks. It's good to be familiar with some of them and learn where to acquire further information when needed. In this part of the exercise you will test decision tree, linear regression, logistic regression, and Support-Vector Machine (SVM) models using their implementations in the scikit-learn package.\n",
    "\n",
    "Here follows a brief walk-through of the methods:\n",
    "\n",
    "**Decision trees** work by inserting a data point into the root of the tree and then by comparing different features of the data point it is sent to the next step in the tree until it reaches a leaf node which contains the final prediction for the data point. There are many different ways to create a tree to fit some training set but training procedures often follow a divide-and-conquer strategy:\n",
    "* Find an attribute that splits the different classes or labels of the training data as neatly as possible and create a node that splits using that attribute.\n",
    "* Repeat the procedure to create the subnodes using the training data that subnode would encounter.\n",
    "* This is repeated for each until either a performance requirement or a certain depth is reached at which point each leaf node is assigned as a predictor for the highest liklihood label to reach that node.\n",
    "\n",
    "An example of a short decision tree can be found in the image below.\n",
    "\n",
    "![Decision Tree](https://miro.medium.com/max/720/1*YTg8AE3nAsbfn-elHuJNIA.jpeg)\n",
    "\n",
    "**Linear regression, logistic regression, and support vector machines (SVMs)** are all versions of linear models. Linear models work by learning a hyperplane (a plane with N-1 dimensions) for training data in some hyper-space (a space with N dimensions) that fits the data the best. In the case of binary classification the goal is to have as many samples of each class on separate sides of the plane.\n",
    "\n",
    "\n",
    "\n",
    "The calculation of a linear model can be described by the vector equation below, where *x* is the data point and **w** and b are learned parameters, and f() is an activation function.\n",
    "\n",
    "\\begin{equation*}\n",
    "y = f(\\mathbf{w}\\mathit{x} + b)\n",
    "\\end{equation*}\n",
    "\n",
    "As you can see this is identical to the equation of an artificial neuron, and when extended to handle multiple outputs (by using  matrices for **w** and b instead of vectors) become equivalent to a single-layer ANN.\n",
    "However, even though prediction, in the simplest case, is equivalent to a single-layer neural network there are many different linear models that vary in different ways. Common things to change is activation function, learning method, optimization criteria, or the addition of kernel functions to bring complex datasets into higher dimensional spaces where it's easier to linearly separate. So, while it may seem pointless to use a linear model when they seem equivalent to a single-layer neural network, some models come with advantages that neural network have difficulty replicating. A common advantage is that while neural networks often needs to be trained using backpropagation, linear models are well-studied with many different optimization short-cuts and techniques.\n",
    "\n",
    "As you will see when running the models below, these models all get impressive results on the dataset, despite their apparent simplicity. To test these models we're using their implementation from the Python library [Scikit-Learn](https://scikit-learn.org/stable/index.html) which contains implementations of a host of different machine learning models and methods. While knowing a Scikit-Learn is not mandatory for this Exercise, it's well worth having a look at for anyone interested in non-neural network machine learning (though it does contain some neural networks as well).\n",
    "\n",
    "### Task 1.1\n",
    "Analyse the code below and run it to get the results of the different machine learning models (You might get some warnings, but don't worry about those)."
   ]
  },
  {
   "cell_type": "code",
   "execution_count": 6,
   "metadata": {
    "colab": {
     "base_uri": "https://localhost:8080/"
    },
    "id": "ckZODO85XXzX",
    "outputId": "7709e2bd-284f-4c09-c670-3954ea0a7dd9"
   },
   "outputs": [
    {
     "name": "stdout",
     "output_type": "stream",
     "text": [
      "Classifier Decision Tree got 87.77000000000001% accuracy on the test set\n",
      "Classifier Linear Regression got 86.03% accuracy on the test set\n"
     ]
    },
    {
     "name": "stderr",
     "output_type": "stream",
     "text": [
      "c:\\Users\\moell\\dev\\dev_uni\\d7046e\\d7046e\\.venv\\Lib\\site-packages\\sklearn\\linear_model\\_stochastic_gradient.py:738: ConvergenceWarning: Maximum number of iteration reached before convergence. Consider increasing max_iter to improve the fit.\n",
      "  warnings.warn(\n"
     ]
    },
    {
     "name": "stdout",
     "output_type": "stream",
     "text": [
      "Classifier Logistic Regression got 88.83% accuracy on the test set\n",
      "Classifier SVM got 88.83% accuracy on the test set\n"
     ]
    },
    {
     "name": "stderr",
     "output_type": "stream",
     "text": [
      "c:\\Users\\moell\\dev\\dev_uni\\d7046e\\d7046e\\.venv\\Lib\\site-packages\\sklearn\\linear_model\\_stochastic_gradient.py:738: ConvergenceWarning: Maximum number of iteration reached before convergence. Consider increasing max_iter to improve the fit.\n",
      "  warnings.warn(\n"
     ]
    }
   ],
   "source": [
    "# Since Scikit-Learn uses Numpy we need to transform all our data to numpy arrays,\n",
    "# which can be done by Pytorch's .numpy() function\n",
    "X_train = mnist_train.data.view(-1, 784).numpy()\n",
    "y_train = mnist_train.targets.numpy()\n",
    "y_10_train = to_onehot(mnist_train.targets).detach().numpy()\n",
    "\n",
    "X_test = mnist_test.data.view(-1, 784).numpy()\n",
    "y_test = mnist_test.targets.numpy()\n",
    "\n",
    "# Many machine learning models in Sciki-Learn work better if the data has been normalized to mean 0 and standard deviation 1, which can be done with Scikit-Learn's StandardScaler\n",
    "scaler = StandardScaler().fit(X_train)\n",
    "\n",
    "X_train_scaled = scaler.transform(X_train)\n",
    "X_test_scaled = scaler.transform(X_test)\n",
    "\n",
    "# We make a function for handling the training and testing of a given Scikit-Learn classifier\n",
    "def train_and_test(classifier, train_data, train_labels, test_data, test_labels, onehot_output=False):\n",
    "    # Trains the classifier witht he given data and labels\n",
    "    classifier.fit(train_data, train_labels)\n",
    "    # Uses the trained classifier to predict the classes of the test set\n",
    "    predictions = classifier.predict(test_data)\n",
    "    # Some models output with predictions for each class rather than one index for the predicted class\n",
    "    if onehot_output:\n",
    "        predictions = numpy.argmax(predictions, axis=1)\n",
    "    # By comparing the actual labels to the predictions we can calculate the accuracy of the classifier\n",
    "    return accuracy_score(test_labels, predictions)\n",
    "\n",
    "\n",
    "# We create the classifiers to test. 'log'-loss is called 'los_loss' in some package versions, so we've included both for your convenience.\n",
    "try:\n",
    "    classifiers = {\n",
    "        \"Decision Tree\": DecisionTreeClassifier(),\n",
    "        \"Linear Regression\": LinearRegression(),\n",
    "        # We use the SGDClassifier (which trains a linear model using SGD) to implement Logistic Regression and SVM\n",
    "        \"Logistic Regression\": SGDClassifier(loss='log_loss', max_iter=100),\n",
    "        \"SVM\": SGDClassifier(loss='hinge', max_iter=100)\n",
    "    }\n",
    "\n",
    "except:\n",
    "    classifiers = {\n",
    "        \"Decision Tree\": DecisionTreeClassifier(),\n",
    "        \"Linear Regression\": LinearRegression(),\n",
    "        # We use the SGDClassifier (which trains a linear model using SGD) to implement Logistic Regression and SVM\n",
    "        \"Logistic Regression\": SGDClassifier(loss='log_loss', max_iter=100),\n",
    "        \"SVM\": SGDClassifier(loss='hinge', max_iter=100)\n",
    "    }\n",
    "\n",
    "# We train and test each classifier\n",
    "for classifier in classifiers:\n",
    "    onehot_output = classifier == \"Linear Regression\"\n",
    "    y = y_10_train if onehot_output else y_train\n",
    "    result = train_and_test(classifiers[classifier], X_train, y, X_test, y_test, onehot_output=onehot_output)\n",
    "    print(\"Classifier {} got {}% accuracy on the test set\".format(classifier, result*100))"
   ]
  },
  {
   "cell_type": "markdown",
   "metadata": {
    "collapsed": false,
    "id": "gcHUvGCPXXzY",
    "jupyter": {
     "outputs_hidden": false
    }
   },
   "source": [
    "### Task 1.2\n",
    "Read up on linear and logistic regression and write a short description of their difference in the cell below. Explain in three or four sentences the main differences."
   ]
  },
  {
   "cell_type": "markdown",
   "metadata": {},
   "source": [
    "\n",
    "\n",
    "\n",
    "\n"
   ]
  },
  {
   "cell_type": "markdown",
   "metadata": {
    "collapsed": false,
    "id": "GoAzH0yAXXzZ",
    "jupyter": {
     "outputs_hidden": false
    }
   },
   "source": [
    "<i>Write your answer here \n",
    "...\n",
    "...\n",
    "... </i>\n",
    "\n",
    "Linear predicts contagious values where the logistic sibling predicts categories in the input dataset the so the linear model outputs any real number so it can be used to predict the temperature in different zones depending on a set of variables defining the mean line that data points scatter around. The logistic function splits data points to either side of the regression line. They have different loss functions, Mean Square Error to minimize prediction errors and log-loss for probability based classification.\n",
    "\n"
   ]
  },
  {
   "cell_type": "markdown",
   "metadata": {
    "id": "0We1TnmMXXza"
   },
   "source": [
    "## Task 2\n",
    "\n",
    "Next you will implement an ANN (read the information given at the top of this document if you have forgotten what that acronym means - it is one of the central themes in this course!) that classifies the MNIST digits.\n",
    "\n",
    "In this course you will be using the deep learning framework **PyTorch** to implement ANNs. This exercise is an introduction to the framework. We recommend this [tutorial](https://pytorch.org/tutorials/beginner/pytorch_with_examples.html) as reference for further information.\n",
    "\n",
    "To solve the following task you will need to improve the code provided below. This can be done by adding or changing the modules that are part of nn.Sequential. A list of available modules can be found [here](https://pytorch.org/docs/stable/nn.html) though it's recommended that you stick with nn.Linear, nn.Sigmoid, nn.ReLU, nn.LeakyReLU, or similar modules. Feed-Forward networks (the type recommended for this task, we'll tell you more about that later) usually consist of nn.Linear separated by activation functions (like nn.Sigmoid, and nn.Linear). Each nn.Linear layer must have the input size (first parameter) of the previous layer's output size. E.g. nn.Linear(784, 50) could be followed by nn.Linear(50, 10).\n",
    "\n",
    "For inspiration, see the MNIST [website](http://yann.lecun.com/exdb/mnist/) which contains some previously tested network architectures and the corresponding classification accuracy obtained.\n",
    "\n",
    "Additionally, you might want to change the optimizer used; (List [here](https://pytorch.org/docs/stable/optim.html)) or loss function (List [here](https://pytorch.org/docs/stable/nn.html#loss-functions)).\n",
    "\n",
    "Note: Not all loss functions takes the same input, so you might need to restructure the data to make it work.\n",
    "\n",
    "Any network that you design will be randomly initialized and therefore bad at recognizing images initially, which you will experience when running the code below.\n",
    "\n",
    "### Task 2.1"
   ]
  },
  {
   "cell_type": "code",
   "execution_count": 4,
   "metadata": {
    "id": "j52uCLlYXXzb",
    "outputId": "75872f1e-6643-4837-b8b2-c3836758260f"
   },
   "outputs": [
    {
     "name": "stdout",
     "output_type": "stream",
     "text": [
      "Predicting with the randomly initialized network before training to see what happens\n"
     ]
    },
    {
     "data": {
      "image/png": "[encoded data removed]",
      "text/plain": [
       "<Figure size 432x288 with 1 Axes>"
      ]
     },
     "metadata": {
      "needs_background": "light"
     },
     "output_type": "display_data"
    },
    {
     "name": "stdout",
     "output_type": "stream",
     "text": [
      "Prediction: 8 - Actual: 5\n"
     ]
    },
    {
     "data": {
      "image/png": "[encoded data removed]",
      "text/plain": [
       "<Figure size 432x288 with 1 Axes>"
      ]
     },
     "metadata": {
      "needs_background": "light"
     },
     "output_type": "display_data"
    },
    {
     "name": "stdout",
     "output_type": "stream",
     "text": [
      "Prediction: 2 - Actual: 0\n"
     ]
    },
    {
     "data": {
      "image/png": "[encoded data removed]",
      "text/plain": [
       "<Figure size 432x288 with 1 Axes>"
      ]
     },
     "metadata": {
      "needs_background": "light"
     },
     "output_type": "display_data"
    },
    {
     "name": "stdout",
     "output_type": "stream",
     "text": [
      "Prediction: 4 - Actual: 5\n"
     ]
    }
   ],
   "source": [
    "# This code initializes the neural network\n",
    "\n",
    "### EDIT CODE BELOW TO CHANGE THE NETWORK AND ITS OPTIMIZING PROCEDURE ###\n",
    "# nn.Sequential can be given a list of neural networks modules\n",
    "\n",
    "# This initial network has only two layers with a ReLU funtion in between.\n",
    "# It has an input size equal to the size of the images (28x28 pixels = 784)\n",
    "# and an output size equal to the number of classes (the number of digits = 10)\n",
    "network = nn.Sequential(\n",
    "    nn.Linear(784, 100), # First layer of the network takes the entire image and reduces it to 100 dimensions\n",
    "    nn.ReLU(),\n",
    "    nn.Linear(100, 10) # The second layer takes those 100 dimensions and reduces them into estimated values for each digit\n",
    ")\n",
    "\n",
    "# Initialize the optimizer\n",
    "# In addition to changing optimizer you can try to change other parameters like learning rate (lr)\n",
    "optimizer = optim.SGD(network.parameters(), lr=0.01)\n",
    "\n",
    "# Initialize the loss function\n",
    "loss_function = nn.MSELoss()\n",
    "\n",
    "### EDIT CODE ABOVE TO CHANGE THE NETWORK AND ITS OPTIMIZING PROCEDURE ###\n",
    "\n",
    "# An Embedding layer used for turning int into one-hot (0 -> [1,0,0,0,0,0,0,0,0,0], 5 -> [0,0,0,0,0,1,0,0,0,0])\n",
    "to_onehot = nn.Embedding(10, 10)\n",
    "to_onehot.weight.data = torch.eye(10)\n",
    "\n",
    "# Extract some images from the dataset and have the new predict what digit they are\n",
    "def predict_on_images(iterator, images_to_show):\n",
    "    for index in range(images_to_show):\n",
    "        # Get the next batch of images\n",
    "        images, labels = next(iterator)\n",
    "\n",
    "        plot_digit(images[0])\n",
    "\n",
    "        # Transform the images into a single list of pixels since our network takes that as its input\n",
    "        input_tensor = images[0].view(1,784)\n",
    "        # Run the input through our network to get a prediction\n",
    "        prediction = network(input_tensor)\n",
    "        # Extract which prediction had the highest probability\n",
    "        guess = torch.argmax(prediction[0], dim=-1)\n",
    "        # Show the predicted digit and the actual digit\n",
    "        print(f'Prediction: {guess.item()} - Actual: {labels[0].item()}')\n",
    "\n",
    "# Have the untrained network predict on some images\n",
    "print('Predicting with the randomly initialized network before training to see what happens')\n",
    "mnist_loader = train_loader\n",
    "predict_on_images(iterator = iter(mnist_loader), images_to_show = 3)"
   ]
  },
  {
   "cell_type": "markdown",
   "metadata": {
    "id": "NDxGFZmCXXzc"
   },
   "source": [
    "### Task 2.2: training the network\n",
    "Below is the training procedure. Neural networks are usually trained with backpropagation which works as follows (for now you don't need to understand the prodcedure, but you'll be expected to learn it in the course later on).<br>\n",
    "    1. Give the network the input and have it calculate a prediction.<br>\n",
    "    2. Calculate the loss/error by comparing the difference between the prediction and the target output.<br>\n",
    "    3. For the error E and each parameter w find their error gradient: (backpropagate the error)\n",
    "\\begin{equation*}\n",
    "\\frac{\\partial E}{\\partial w}\n",
    "\\end{equation*}\n",
    "    4. Update the parameters according to their error gradient (since we know how this parameter affected the error we can change it to cause less error)<br>\n",
    "    5. Repeat from step 1 with new input\n",
    "    \n",
    "The code below **takes a while to execute**. Note the cirle at the top-right corner of the notebook, just next to the name Python followed by the version number, like **Python 3**. When the circle is filled the code is still running. An open circle means that code is not running.\n",
    "\n",
    "**Exercise:** Complete the training loop below and train the network. Then go back to where the network and other training parameters are defined and change things around and see if you can train with some other network architectures, loss functions, or optimizers.\n",
    "\n",
    "*Hint:* Look at the training loop from the seven segment training to see how different parts are implemented"
   ]
  },
  {
   "cell_type": "code",
   "execution_count": null,
   "metadata": {
    "id": "vU_jMCg-XXzd",
    "outputId": "bd4fc205-40ff-4a15-e2b4-8cc043c86913"
   },
   "outputs": [
    {
     "name": "stdout",
     "output_type": "stream",
     "text": [
      "Epoch 10 [60/60] - Loss: 0.06694659590721139"
     ]
    }
   ],
   "source": [
    "# Decide the number of epochs to train for (one epoch is one optimization iteration on the entire dataset)\n",
    "epochs = 10\n",
    "\n",
    "# For each epoch\n",
    "for epoch in range(epochs):\n",
    "\n",
    "    # For each batch of data (since the dataset is too large to run all data through the network at once)\n",
    "    for batch_nr, (images, labels) in enumerate(mnist_loader):\n",
    "\n",
    "        # Extract the labels and turn them into one-hot representation (note: not all loss functions needs this)\n",
    "        labels = to_onehot(labels)\n",
    "\n",
    "        # Reshape the images to a single vector (28*28 = 784)\n",
    "        images = images.view(-1,784)\n",
    "\n",
    "        # Predict for each digit in the batch whatclass they belong to\n",
    "        prediction = ... # WRITE THE CODE TO RUN THE IMAGES THROUGH THE NETWORK\n",
    "\n",
    "        # Calculate the loss of the prediction by comparing to the expected output\n",
    "        loss = ... # WRITE THE CODE TO CALCULATE THE LOSS BY COMPARING THE PREDICTION TO THE ACTUAL LABELS\n",
    "\n",
    "        # Backpropagate the loss through the network to find the gradients of all parameters\n",
    "        ... # WRITE CODE TO BACKPROPOGATE THE LOSS\n",
    "\n",
    "        # Update the parameters along their gradients\n",
    "        ... # WRITE THE CODE TO OPTIMIZE PARAMETERS BY STEPPING ALONG THE GRADIENTS\n",
    "\n",
    "        # Clear stored gradient values\n",
    "        ... # WRITE THE CODE TO REMOVE THE USED GRADIENTS BEFORE THE NEXT ITERATION OF THE LOOP\n",
    "\n",
    "        #Print the epoch, batch, and loss\n",
    "        print(\n",
    "            '\\rEpoch {} [{}/{}] - Loss: {}'.format(\n",
    "                epoch+1, batch_nr+1, len(mnist_loader), loss\n",
    "            ),\n",
    "            end=''\n",
    "        )"
   ]
  },
  {
   "cell_type": "markdown",
   "metadata": {
    "id": "oOEUtGQpXXzg"
   },
   "source": [
    "### Task 2.3: Testing the network\n",
    "To see whether our network have been trained properly we want to test it on new data, which has not been used during training. In Exercise 1 you'll need to implement a proper testing procedure, but for now we simplify things and just predict a number of digits to see whether it looks fairly alright.\n",
    "\n",
    "Likely the network will not get everyhting correct, but that's to be expected with the few epochs of training and non-optimal setup.\n",
    "\n",
    "Can you improve the network architecture to improve the classification results?"
   ]
  },
  {
   "cell_type": "code",
   "execution_count": 9,
   "metadata": {
    "id": "YWWZcV-gXXzh",
    "outputId": "20d595a8-0b72-4ee2-92b7-34be44cd9a8d"
   },
   "outputs": [
    {
     "data": {
      "image/png": "[encoded data removed]",
      "text/plain": [
       "<Figure size 432x288 with 1 Axes>"
      ]
     },
     "metadata": {
      "needs_background": "light"
     },
     "output_type": "display_data"
    },
    {
     "name": "stdout",
     "output_type": "stream",
     "text": [
      "Prediction: 7 - Actual: 7\n"
     ]
    },
    {
     "data": {
      "image/png": "[encoded data removed]",
      "text/plain": [
       "<Figure size 432x288 with 1 Axes>"
      ]
     },
     "metadata": {
      "needs_background": "light"
     },
     "output_type": "display_data"
    },
    {
     "name": "stdout",
     "output_type": "stream",
     "text": [
      "Prediction: 7 - Actual: 9\n"
     ]
    },
    {
     "data": {
      "image/png": "[encoded data removed]",
      "text/plain": [
       "<Figure size 432x288 with 1 Axes>"
      ]
     },
     "metadata": {
      "needs_background": "light"
     },
     "output_type": "display_data"
    },
    {
     "name": "stdout",
     "output_type": "stream",
     "text": [
      "Prediction: 6 - Actual: 6\n"
     ]
    },
    {
     "data": {
      "image/png": "[encoded data removed]",
      "text/plain": [
       "<Figure size 432x288 with 1 Axes>"
      ]
     },
     "metadata": {
      "needs_background": "light"
     },
     "output_type": "display_data"
    },
    {
     "name": "stdout",
     "output_type": "stream",
     "text": [
      "Prediction: 8 - Actual: 6\n"
     ]
    },
    {
     "data": {
      "image/png": "[encoded data removed]",
      "text/plain": [
       "<Figure size 432x288 with 1 Axes>"
      ]
     },
     "metadata": {
      "needs_background": "light"
     },
     "output_type": "display_data"
    },
    {
     "name": "stdout",
     "output_type": "stream",
     "text": [
      "Prediction: 4 - Actual: 9\n"
     ]
    },
    {
     "data": {
      "image/png": "[encoded data removed]",
      "text/plain": [
       "<Figure size 432x288 with 1 Axes>"
      ]
     },
     "metadata": {
      "needs_background": "light"
     },
     "output_type": "display_data"
    },
    {
     "name": "stdout",
     "output_type": "stream",
     "text": [
      "Prediction: 3 - Actual: 3\n"
     ]
    },
    {
     "data": {
      "image/png": "[encoded data removed]",
      "text/plain": [
       "<Figure size 432x288 with 1 Axes>"
      ]
     },
     "metadata": {
      "needs_background": "light"
     },
     "output_type": "display_data"
    },
    {
     "name": "stdout",
     "output_type": "stream",
     "text": [
      "Prediction: 7 - Actual: 9\n"
     ]
    },
    {
     "data": {
      "image/png": "[encoded data removed]",
      "text/plain": [
       "<Figure size 432x288 with 1 Axes>"
      ]
     },
     "metadata": {
      "needs_background": "light"
     },
     "output_type": "display_data"
    },
    {
     "name": "stdout",
     "output_type": "stream",
     "text": [
      "Prediction: 1 - Actual: 1\n"
     ]
    },
    {
     "data": {
      "image/png": "[encoded data removed]",
      "text/plain": [
       "<Figure size 432x288 with 1 Axes>"
      ]
     },
     "metadata": {
      "needs_background": "light"
     },
     "output_type": "display_data"
    },
    {
     "name": "stdout",
     "output_type": "stream",
     "text": [
      "Prediction: 4 - Actual: 4\n"
     ]
    },
    {
     "data": {
      "image/png": "[encoded data removed]",
      "text/plain": [
       "<Figure size 432x288 with 1 Axes>"
      ]
     },
     "metadata": {
      "needs_background": "light"
     },
     "output_type": "display_data"
    },
    {
     "name": "stdout",
     "output_type": "stream",
     "text": [
      "Prediction: 7 - Actual: 7\n"
     ]
    }
   ],
   "source": [
    "# Have the trained network predict on a number of images\n",
    "mnist_loader = test_loader\n",
    "predict_on_images(iterator = iter(mnist_loader), images_to_show = 10)"
   ]
  },
  {
   "cell_type": "markdown",
   "metadata": {
    "collapsed": false,
    "id": "nFNNbsdZXXzj",
    "jupyter": {
     "outputs_hidden": false
    }
   },
   "source": [
    "### End\n",
    "\n",
    "Congratulations! You have now reached the end of Exercise 0. Make sure that you understand the steps above and then complete the Exercise 0 quiz in the Canvas Assignment."
   ]
  }
 ],
 "metadata": {
  "colab": {
   "provenance": []
  },
  "kernelspec": {
   "display_name": ".venv",
   "language": "python",
   "name": "python3"
  },
  "language_info": {
   "codemirror_mode": {
    "name": "ipython",
    "version": 3
   },
   "file_extension": ".py",
   "mimetype": "text/x-python",
   "name": "python",
   "nbconvert_exporter": "python",
   "pygments_lexer": "ipython3",
   "version": "3.12.7"
  }
 },
 "nbformat": 4,
 "nbformat_minor": 4
}
