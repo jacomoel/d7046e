{
 "cells": [
  {
   "cell_type": "markdown",
   "metadata": {},
   "source": [
    "# D7046E Exercise 1 (ANN1)\n",
    "\n",
    "This exercise has three taks where you will deepen your understanding of how artificial neural networks (ANNs) are implemented and trained. First, you will represent digits on an eight-segment display as vectors and hard-code perceptrons that classifies the digits. The purpose of this task is to better understand the basic computational units in ANNs and how inputs can be represented as feature vectors. Secondly, you will implement and train neural networks using [pytorch](https://pytorch.org/) on the seven-segment display data and the [MNIST](http://yann.lecun.com/exdb/mnist/) dataset which you are familiar with from Exercise 0. Finally, you will implement a neural network including the forward (inference) pass and the backward (learning) pass from scratch using numpy. After completing these steps you will know the central building blocks of ANNs.\n",
    "\n",
    "## Literature\n",
    "Before starting with the implementation you should familiarize yourself with two additional chapters in the [deep learning book](https://www.deeplearningbook.org/). This will help you understand the theory behind neural networks and what mathematical formulas are important for the task. The lectures has touched on most of these concepts. Below is a list of recommended sections from the book. If you feel familiar with the contents of these sections, feel free to skip it.\n",
    "\n",
    "* Chapter 6 - Deep feedforward networks\n",
    "    - Section 6.0 - Discusses what do we mean by feedfoward networks and terminology such as input layer, output layer and hidden layer.\n",
    "    - Section 6.2 - Discusses what gradient based learning is and what cost functions are.\n",
    "    - Section 6.5 - Explains back propagation. Important here are the formulas 6.49 - 6.52.\n",
    "* Chapter 8 - Optimization for Training Deep Models\n",
    "    - Section 8.1.3 - Presents differences between batch (deterministic) and mini-batch (stochastic) algorithms.\n",
    "    \n",
    "## Libraries\n",
    "\n",
    "Before starting with the implementations you need to import the following libraries."
   ]
  },
  {
   "cell_type": "code",
   "execution_count": 1,
   "metadata": {
    "ExecuteTime": {
     "end_time": "2024-01-09T10:35:40.465251700Z",
     "start_time": "2024-01-09T10:35:37.353754400Z"
    }
   },
   "outputs": [],
   "source": [
    "import torch\n",
    "import torch.nn as nn\n",
    "import torch.nn.functional as F\n",
    "import torch.optim as optim\n",
    "from torch.utils.data import DataLoader\n",
    "from torchvision import datasets, transforms\n",
    "\n",
    "import matplotlib.pyplot as plt\n",
    "import numpy\n",
    "import copy"
   ]
  },
  {
   "cell_type": "markdown",
   "metadata": {
    "collapsed": false
   },
   "source": [
    "## Task 1\n",
    "\n",
    "Classification of seven-segment display numbers with perceptrons. A [seven-segment display](https://en.wikipedia.org/wiki/Seven-segment_display) can be used to display digits by turning the different segments (A,B,C,D,E,F, G) on or off. Your task is to design ten different perceptrons (which together make a single-layer neural network with 10 outputs) that recognizes the ten different digits (0,1,2,3, ... ,9) represented by a seven-segment display. The input to each perceptron will be a seven-dimensional vector {A,B,C,D,E,F,G} where A is 1 if segment A is turned on and 0 otherwise (and the same for all the other segments).\n",
    "\n",
    "![Seven Segment Display](https://upload.wikimedia.org/wikipedia/commons/thumb/e/ed/7_Segment_Display_with_Labeled_Segments.svg/225px-7_Segment_Display_with_Labeled_Segments.svg.png)\n",
    "\n",
    "This means that for each digit you should create a vector representing the digit, as well as a perceptron that selectively gives a high output for that particular digit and a low output for other digits. For each digit (0 to 9) the corresponding perceptron shoud have the greatest output value, indicating that it can correctly classify the corresponding digit/vector and thereby distinguish that digit from other digits.\n",
    "\n",
    "For example, the digit 2 corresponds to the vector {1,1,0,1,1,0,1}. If the perceptron at index 2 (the third pereptron since we have a perceptron for 0 as well) gives the greatest output for this vector then this perceptron functions as desired. Similarly, other perceptrons should give the highest output for their corresponding vector.\n",
    "\n",
    "For example, the digit zero is represented as segments A-F being on and segment G being off. The zero perceptron should reasonably have positive activation for A-F, say at a value of 1, and negative activation for G, say -1.\n",
    "\n",
    "Why negative?\n",
    "\n",
    "If we instead set the activation for G to 0, then there is no distinction between the digits zero and eight. Thus, our perceptron for zero would have the same output regardless of whether the input is zero or eight. You can address this with biases, so that the output for our eight-perceptron is higher than the zero-perceptron for input eight, and vice versa, but it makes balancing weights and biases much more difficult.\n",
    "\n",
    "A good starting point is to consider which activations should be positive or negative, implement this, then check the output for all perceptrons for each digit and then contemplate the bias.\n",
    "\n",
    "\n",
    "### Task 1.1\n",
    "\n",
    "In this task you should use numpy rather than PyTorch to implement and understand the elementary arithmetic operations involved. After completing this exercise you should understand how an artificial neural network unit (like the perceptron) produces one scalar output from multiple input values, and how the trainable weights and biases determine the relation between input and output values of a neural network unit and layer.\n",
    "\n",
    "Complete the input vectors, the weight vectors, and biases. Then update the prediction calculation (forward pass) to include bias in the calculation."
   ]
  },
  {
   "cell_type": "code",
   "execution_count": 2,
   "metadata": {
    "ExecuteTime": {
     "end_time": "2024-01-09T10:35:56.967807200Z",
     "start_time": "2024-01-09T10:35:56.925697300Z"
    },
    "collapsed": false
   },
   "outputs": [
    {
     "name": "stdout",
     "output_type": "stream",
     "text": [
      "Digit 0 corresponds to the vector [1 1 1 1 1 1 0]\n",
      "Digit 1 corresponds to the vector [0 1 1 0 0 0 0]\n",
      "Digit 2 corresponds to the vector [1 1 0 1 1 0 1]\n",
      "Digit 3 corresponds to the vector [1 1 1 1 0 0 1]\n",
      "Digit 4 corresponds to the vector [0 1 1 0 0 1 1]\n",
      "Digit 5 corresponds to the vector [1 0 1 1 0 1 1]\n",
      "Digit 6 corresponds to the vector [1 0 1 1 1 1 1]\n",
      "Digit 7 corresponds to the vector [1 1 1 0 0 0 0]\n",
      "Digit 8 corresponds to the vector [1 1 1 1 1 1 1]\n",
      "Digit 9 corresponds to the vector [1 1 1 0 0 1 1]\n"
     ]
    }
   ],
   "source": [
    "## First we need to define all the vectors corresponding to the various digits and add them to a list for easy access\n",
    "# Please finish the list of digit vectors\n",
    "x = [\n",
    "    numpy.array([1,1,1,1,1,1,0]), # 0\n",
    "    numpy.array([0,1,1,0,0,0,0]), # 1\n",
    "    numpy.array([1,1,0,1,1,0,1]), # 2\n",
    "    numpy.array([1,1,1,1,0,0,1]), # 3\n",
    "    numpy.array([0,1,1,0,0,1,1]), # 4\n",
    "    numpy.array([1,0,1,1,0,1,1]), # 5\n",
    "    numpy.array([1,0,1,1,1,1,1]), # 6\n",
    "    numpy.array([1,1,1,0,0,0,0]), # 7\n",
    "    numpy.array([1,1,1,1,1,1,1]), # 8\n",
    "    numpy.array([1,1,1,0,0,1,1]), # 9\n",
    "]\n",
    "\n",
    "# And we print one of the vectors to show you how to get a specific vector\n",
    "print(f'Digit 0 corresponds to the vector {x[0]}')\n",
    "print(f'Digit 1 corresponds to the vector {x[1]}')\n",
    "print(f'Digit 2 corresponds to the vector {x[2]}')\n",
    "print(f'Digit 3 corresponds to the vector {x[3]}')\n",
    "print(f'Digit 4 corresponds to the vector {x[4]}')\n",
    "print(f'Digit 5 corresponds to the vector {x[5]}')\n",
    "print(f'Digit 6 corresponds to the vector {x[6]}')\n",
    "print(f'Digit 7 corresponds to the vector {x[7]}')\n",
    "print(f'Digit 8 corresponds to the vector {x[8]}')\n",
    "print(f'Digit 9 corresponds to the vector {x[9]}')"
   ]
  },
  {
   "cell_type": "code",
   "execution_count": 3,
   "metadata": {
    "ExecuteTime": {
     "end_time": "2024-01-09T10:36:37.574912200Z",
     "start_time": "2024-01-09T10:36:37.559272Z"
    },
    "collapsed": false
   },
   "outputs": [],
   "source": [
    "## Second we need to create ten perceptron with weights and biases\n",
    "# You also need to figure out which weights and biases to use for each perceptron\n",
    "# We've already created some of the perceptrons for you, but you need to create the rest\n",
    "# While we're using integers for our weight you can use floating point numbers (real numbers) as well if you want\n",
    "\n",
    "weights = [\n",
    "    numpy.array([1,1,1,1,1,1,-1]), # 0\n",
    "    numpy.array([-1,1,1,-1,-1,-1,-1]), # 1\n",
    "    numpy.array([1,1,-1,1,1,-1,1]), # 2\n",
    "    numpy.array([1,1,1,1,-1,-1,1]), # 3\n",
    "    numpy.array([-1,1,1,-1,-1,1,1]), # 4\n",
    "    numpy.array([1,-1,1,1,-1,1,1]), # 5\n",
    "    numpy.array([1,-1,1,1,1,1,1]), # 6\n",
    "    numpy.array([1,1,1,-1,-1,-1,-1]), # 7\n",
    "    numpy.array([1,1,1,1,1,1,1]), # 8\n",
    "    numpy.array([1,1,1,-1,-1,1,1]), # 9\n",
    "    \n",
    "]\n",
    "\n",
    "biases = [\n",
    "    -5, # 0\n",
    "    -1, # 1\n",
    "    -3, # 2\n",
    "    -2, # 3\n",
    "    -2, # 4\n",
    "    -3, # 5\n",
    "    -4, # 6\n",
    "    -1, # 7\n",
    "    -5, # 8\n",
    "    -3, # 9\n",
    "]"
   ]
  },
  {
   "cell_type": "code",
   "execution_count": 4,
   "metadata": {
    "ExecuteTime": {
     "end_time": "2024-01-09T14:07:14.671398100Z",
     "start_time": "2024-01-09T14:07:14.669360Z"
    },
    "collapsed": false
   },
   "outputs": [
    {
     "name": "stdout",
     "output_type": "stream",
     "text": [
      "Digit 0 was predicted to be 0\n",
      "Digit 1 was predicted to be 1\n",
      "Digit 2 was predicted to be 2\n",
      "Digit 3 was predicted to be 3\n",
      "Digit 4 was predicted to be 4\n",
      "Digit 5 was predicted to be 5\n",
      "Digit 6 was predicted to be 6\n",
      "Digit 7 was predicted to be 7\n",
      "Digit 8 was predicted to be 8\n",
      "Digit 9 was predicted to be 9\n"
     ]
    }
   ],
   "source": [
    "## Finally let's evaluate the output of the perceptrons.\n",
    "# The line computing the output of each perceptron is not using bias, so you need to add that as well.\n",
    "# If the perceptrons dont give the correct output then go back and edit the weights and biases in the\n",
    "# previous cell (or check that the vectors are implemented correctly) until the outputs discriminate\n",
    "# correctly between different digits. Remember to run a cell again (CONTROL + ENTER) if you update it.\n",
    "\n",
    "debug = False # Set this to True if the predictions are wrong to get a more detailed output\n",
    "\n",
    "for digit in range(10): # For each digit between 0 and 9 (range(n) gives a range (almost a list) of each number between 0 and n (excluding n)\n",
    "    vector = x[digit] # Get the correct vector representation of the digit\n",
    "    \n",
    "    outputs = [] # Create an empty list to put the perceptrons' outputs in\n",
    "    for w, b in zip(weights, biases): # For each weight and bias in the lists (zip takes two lists [x1,x2,...] [y1,y2,...] and makes a new list [(x1,y1),(x2,y2),...]) \n",
    "        \n",
    "        # CHANGE THIS LINE TO ADD BIASES AS WELL\n",
    "        output = w.dot(vector) + b # Calculating the output of the perceptron with weight w and bias b\n",
    "        \n",
    "        outputs.append(output) # Adding the output to the list of outputs\n",
    "    prediction = outputs.index(max(outputs)) # Get prediction by taking the index of the output value with maximum input\n",
    "    \n",
    "    print(f'Digit {digit} was predicted to be {prediction}') # This is an f-string with notation f'text {variable1} more text {variable2}'\n",
    "    \n",
    "    if debug: # If debug is True\n",
    "        print(f'Outputs for all perceptrons for the digit {digit}: {outputs}')\n",
    "        print() # Add a newline for formating"
   ]
  },
  {
   "cell_type": "markdown",
   "metadata": {
    "collapsed": false
   },
   "source": [
    "### Task 1.2\n",
    "\n",
    "Next you will train a classifier for the seven-segment display digits using PyTorch, much like you did in Exercise 0 with another dataset. The goal is to learn the weights and biases to correctly classify the digits of a seven-segment display. For this task you have the data needed via the first task above. \n",
    "\n",
    "Create the network using the PyTorch model [torch.nn.Linear](https://pytorch.org/docs/stable/generated/torch.nn.Linear.html), which you can find more information about in the [PyTorch documentation](https://pytorch.org/docs/stable/index.html). Whenever you encounter a new PyTorch function or class it's helpful to look it up in the documentation. If you wonder whether a particular machine learning feature exists in PyTorch you can also search in the documentation, or use the more brute force method of web search or asking an artificial intelligence for further information (see the discussion forum about AI in Canvas for further information). "
   ]
  },
  {
   "cell_type": "code",
   "execution_count": 5,
   "metadata": {
    "ExecuteTime": {
     "end_time": "2024-01-09T14:15:19.236289400Z",
     "start_time": "2024-01-09T14:15:19.226355400Z"
    },
    "collapsed": false
   },
   "outputs": [
    {
     "name": "stderr",
     "output_type": "stream",
     "text": [
      "C:\\Users\\moell\\AppData\\Local\\Temp\\ipykernel_14440\\1730206081.py:6: UserWarning: Creating a tensor from a list of numpy.ndarrays is extremely slow. Please consider converting the list to a single numpy.ndarray with numpy.array() before converting to a tensor. (Triggered internally at C:\\actions-runner\\_work\\pytorch\\pytorch\\builder\\windows\\pytorch\\torch\\csrc\\utils\\tensor_new.cpp:281.)\n",
      "  data = torch.Tensor(x) # A Tensor can be created by simply giving it a nested numpy array/list of numbers as input\n"
     ]
    }
   ],
   "source": [
    "## Data and labels\n",
    "# You don't need to edit this code, we simply show you how, in this case, we create the data and labels we need\n",
    "\n",
    "# A matrix (or vector) in PyTorch is usually represented by a Tensor\n",
    "# Create a Tensor with our digit vectors\n",
    "data = torch.Tensor(x) # A Tensor can be created by simply giving it a nested numpy array/list of numbers as input\n",
    "data = data.detach() # Since we won't be changing the data during training we detach the Tensor from the computation graph\n",
    "\n",
    "# Our labels will be the expected outputs of each perceptron for each digit\n",
    "# This means we can't simply say \"5\" is our expected output, but rather that we want [0,0,0,0,0,1,0,0,0,0]\n",
    "# This is called one-hot encoding where we have a vector where the value is one at the given index and zero everywhere else\n",
    "# Since a matrix with one-hot representations of the corresponding index is simply an identity matrix, we use that as our labels\n",
    "labels = torch.eye(10) # Get a matrix with one-hot representations of each digit in each row (an identity matrix)\n",
    "labels = labels.detach() # Since we won't be changing the labels during training we detach the Tensor from the computation graph"
   ]
  },
  {
   "cell_type": "code",
   "execution_count": 6,
   "metadata": {
    "collapsed": false
   },
   "outputs": [],
   "source": [
    "## The network\n",
    "# We create a simple network from torch.nn.Linear\n",
    "\n",
    "# [A,...,G] -> 7\n",
    "input_size = 7 # What is the size of the input vector to the network?\n",
    "\n",
    "# \"we can't simply say \"5\" is our expected output, but rather that we want [0,0,0,0,0,1,0,0,0,0]\" -> 10 (0-9)\n",
    "output_size = 10 # What is the size of the output vector of the network? \n",
    "\n",
    "network = torch.nn.Linear(input_size, output_size) # Creating a single linear layer of a neural network with the given input and output sizes"
   ]
  },
  {
   "cell_type": "code",
   "execution_count": 13,
   "metadata": {
    "collapsed": false
   },
   "outputs": [
    {
     "name": "stdout",
     "output_type": "stream",
     "text": [
      "Epoch 10 - Loss: 0.028157057240605354\n",
      "Epoch 20 - Loss: 0.027551881968975067\n",
      "Epoch 30 - Loss: 0.02701323665678501\n",
      "Epoch 40 - Loss: 0.02652985043823719\n",
      "Epoch 50 - Loss: 0.0260931309312582\n",
      "Epoch 60 - Loss: 0.02569637820124626\n",
      "Epoch 70 - Loss: 0.025334229692816734\n",
      "Epoch 80 - Loss: 0.02500232867896557\n",
      "Epoch 90 - Loss: 0.024697083979845047\n",
      "Epoch 100 - Loss: 0.024415500462055206\n"
     ]
    },
    {
     "data": {
      "image/png": "[encoded data removed]",
      "text/plain": [
       "<Figure size 640x480 with 1 Axes>"
      ]
     },
     "metadata": {},
     "output_type": "display_data"
    }
   ],
   "source": [
    "## Training the network\n",
    "# You don't need to edit this code, we have given you the training loop to train the network\n",
    "\n",
    "epochs = 100 # How many epochs (complete runs of the data) to train for. Since our dataset is small 100 seems reasonable\n",
    "loss_function = torch.nn.MSELoss() # What function to use to calculate the loss given the prediction and labels\n",
    "optimizer = torch.optim.SGD(network.parameters(), lr=1) # Function for updating the parameters of the network based on loss\n",
    "learning_rate = 0.1 # How fast to optimize the network. Since our problem is quite small we can have a large learning rate, otherise 0.01 is usually standard\n",
    "\n",
    "# Create a list to keep track of how the loss changes\n",
    "losses = []\n",
    "\n",
    "# For each epoch\n",
    "for epoch in range(epochs):\n",
    "    \n",
    "    # Predict for each vector what digit they represent\n",
    "    prediction = network(data)\n",
    "    \n",
    "    # Calculate the loss of the prediction by comparing to the expected output\n",
    "    loss = loss_function(prediction, labels)\n",
    "\n",
    "    # Backpropogate the loss through the network to find the gradients of all parameters\n",
    "    loss.backward()\n",
    "\n",
    "    # Update the parameters along their gradients\n",
    "    optimizer.step()\n",
    "\n",
    "    # Clear stored gradient values\n",
    "    optimizer.zero_grad()\n",
    "\n",
    "    # Add the loss to the total epoch loss (item() turns a PyTorch scalar into a normal Python datatype)\n",
    "    losses.append(loss.item())\n",
    "\n",
    "    #Print the epoch and loss every 10 epochs\n",
    "    if epoch % 10 == 9:\n",
    "        print(f'Epoch {epoch+1} - Loss: {loss}')\n",
    "    \n",
    "# Plot the training loss per epoch\n",
    "plt.plot(range(1,epochs+1),losses)\n",
    "plt.xlabel('Epochs')\n",
    "plt.ylabel('Loss')\n",
    "plt.show()"
   ]
  },
  {
   "cell_type": "markdown",
   "metadata": {
    "collapsed": false
   },
   "source": [
    "### Task 1.3: Check the solution\n",
    "\n",
    "Execute the cell below to see whether the network managed to learn to make the correct predictions.\n",
    "Can you figure out what the learned weights and biases are, and how similar they are to your hardcoded solutions in the first task?"
   ]
  },
  {
   "cell_type": "code",
   "execution_count": 14,
   "metadata": {
    "collapsed": false
   },
   "outputs": [
    {
     "name": "stdout",
     "output_type": "stream",
     "text": [
      "Digit 0 was predicted to be 0\n",
      "Digit 1 was predicted to be 1\n",
      "Digit 2 was predicted to be 2\n",
      "Digit 3 was predicted to be 3\n",
      "Digit 4 was predicted to be 4\n",
      "Digit 5 was predicted to be 5\n",
      "Digit 6 was predicted to be 6\n",
      "Digit 7 was predicted to be 7\n",
      "Digit 8 was predicted to be 8\n",
      "Digit 9 was predicted to be 9\n"
     ]
    }
   ],
   "source": [
    "## Testing the trained network\n",
    "# You don't need to edit this code\n",
    "\n",
    "with torch.no_grad(): # Since we're not training we don't want to calculate the gradients for this prediction\n",
    "    prediction = network(data) # Let's make one final prediction of the data\n",
    "\n",
    "for digit in range(10):\n",
    "    print(f'Digit {digit} was predicted to be {torch.argmax(prediction[digit])}') # argmax gets the index with the greatest value"
   ]
  },
  {
   "cell_type": "markdown",
   "metadata": {
    "collapsed": false
   },
   "source": [
    "## Task 2\n",
    "\n",
    "While it is unnecessary to use machine learning to develop classifiers for a seven-segment display there are many other datasets for which it is difficult, if not impossible, to engineer such solutions without data-driven training/optimization of a model. For example, we have no generally useful and efficient method enabling us to write a program that can tell the difference between images of cats and dogs. However, we can easily gather many images of each, label the images, and use the resulting dataset to train a neural network that solves the task. A central problem in machine learning is how to define and train such a model to obtain maximum performance on new data which has not been used to optimize the model, referred to as the generalization of the model. Another important problem in machine learning is to minimize the computational cost of training and using such models.\n",
    " \n",
    "Next you will extend the work started in Exercise 0 by developing a 2-layer neural network for classification of the MNIST dataset. MNIST consist of 70,000 grayscale images of handwritten digits that are 28x28 pixels each. Our goal is to train a 2-layer network that can recognize what digit an image represents. The subtasks are\n",
    "\n",
    "* Implementation of a 2 layer NN (very similar to ex0)\n",
    "* Training of this 2 layer NN (once again, very similar to ex0)\n",
    "* Validation of the network during training (requires splitting the training set)\n",
    "    - Save the model which performs the best on the validation data\n",
    "* Graph the training loss vs validation loss\n",
    "* You should obtain at least 85% accuracy on the test data (remember to load the best performing model before performing the accuracy test)\n",
    "\n",
    "The code below loads the dataset (downloads it if necessary) and displays one of the images. You have to modify this code to complete this task."
   ]
  },
  {
   "cell_type": "code",
   "execution_count": 15,
   "metadata": {
    "ExecuteTime": {
     "end_time": "2024-01-09T14:42:41.322260300Z",
     "start_time": "2024-01-09T14:42:41.058524Z"
    }
   },
   "outputs": [
    {
     "data": {
      "image/png": "[encoded data removed]",
      "text/plain": [
       "<Figure size 640x480 with 1 Axes>"
      ]
     },
     "metadata": {},
     "output_type": "display_data"
    }
   ],
   "source": [
    "# Define the mini-batch size\n",
    "batch_size = 1000\n",
    "\n",
    "# Download the dataset and create the dataloaders\n",
    "mnist_train = datasets.MNIST(\"./\", train=True, download=True, transform=transforms.ToTensor())\n",
    "\n",
    "##YOU MAY WANT TO ADD A WAY TO SPLIT THE DATASET HERE##\n",
    "train_size = int(0.8 * len(mnist_train)) # 80% of the dataset to train on\n",
    "validation_size = len(mnist_train) - train_size  # Remaining 20% for validation\n",
    "train_data, val_data = torch.utils.data.random_split(mnist_train, [train_size, validation_size]) # Splits the given dataset into two (sub)datasets\n",
    "\n",
    "train_loader = DataLoader(mnist_train, batch_size=batch_size, shuffle=False)\n",
    "mnist_test = datasets.MNIST(\"./\", train=False, download=True, transform=transforms.ToTensor())\n",
    "test_loader = DataLoader(mnist_test, batch_size=batch_size, shuffle=False)\n",
    "val_loader = DataLoader(val_data, batch_size=batch_size, shuffle=False)\n",
    "\n",
    "to_onehot = nn.Embedding(10, 10)\n",
    "to_onehot.weight.data = torch.eye(10)\n",
    "\n",
    "def plot_digit(data):\n",
    "    data = data.view(28, 28)\n",
    "    plt.imshow(data, cmap=\"gray\")\n",
    "    plt.show()\n",
    "\n",
    "images, labels = next(iter(train_loader))\n",
    "plot_digit(images[0])"
   ]
  },
  {
   "cell_type": "markdown",
   "metadata": {},
   "source": [
    "### Task 2.1\n",
    "\n",
    "Implement a 2-layer neural network using pytorch as well as a procedure for training and testing it. The training protocol should include both training and validation. Thus you need to split the training data into a training set (for which the error is backpropagated to update the parameters) and a validation set (which will not be used to directly update the model parameters, and instead be used to keep track of how good the model is at unseen data). \n",
    "\n",
    "The weights of the model which performs the best on the validation data should be stored and then be used for the final check on the test set. Validation sets are often created by taking a fraction of the training data (often, but not always, around 20%) at random. In Pytorch you might want to use [random_split](https://pytorch.org/docs/stable/data.html#torch.utils.data.random_split) for this. Using random split would require you to edit the way the Dataloaders are created.\n",
    "\n",
    "You are free to choose any optimizer and loss function. Just note that some loss functions require the labels to be 1-hot encoded. As you will not use convolutional layers for this exercise (will be introduced later in the course), the inputs need to be transformed to 1d tensors (see [view](https://pytorch.org/docs/stable/tensors.html?highlight=view#torch.Tensor.view)).\n",
    "\n",
    "**GOAL:** You should evaluate the network from the epoch with best validation score (early stopping) on the test set aiming to reach at least 85% accuracy.\n",
    "\n",
    "**Remember** to run all your code before grading so that the teacher doesn't have to wait around for long training runs. Plot the training and validation losses for each epoch.\n",
    "\n",
    "*Hint:* Validation and Testing loops are very similar to training except they don't use backpropagation. Additionally testing should only be performed once, while validation should be performed continually to make sure training is proceeding as intended and to save the parameters of the best epoch.\n",
    "\n",
    "*Hint:* Storing the best model is more difficult than just assigning it to a variable as this only means you have two variables referencing the same network instance in memory (not a copy of the best betwork and one containing the current network). Instead you ned to make a copy of the network which can be achived with [deepcopy](https://docs.python.org/3/library/copy.html). Other ways to store models include saving them as a file which can be done with [torch.save](https://pytorch.org/tutorials/beginner/saving_loading_models.html).\n",
    "\n",
    "*Hint:* Everytime you train a network with random parameter initialization and random batches you get networks with different performance. Sometimes just running the training again can be enough to get a better result. However, if you do this too many times you run the risk of training (overfitting) on the test set."
   ]
  },
  {
   "cell_type": "code",
   "execution_count": null,
   "metadata": {},
   "outputs": [
    {
     "name": "stdout",
     "output_type": "stream",
     "text": [
      "Epoch 1/50 - Train Loss: 2.2565 - Val Loss: 2.1957\n",
      "Epoch 2/50 - Train Loss: 2.1306 - Val Loss: 2.0560\n",
      "Epoch 3/50 - Train Loss: 1.9767 - Val Loss: 1.8860\n",
      "Epoch 4/50 - Train Loss: 1.7954 - Val Loss: 1.6943\n",
      "Epoch 5/50 - Train Loss: 1.6005 - Val Loss: 1.4985\n",
      "Epoch 6/50 - Train Loss: 1.4105 - Val Loss: 1.3169\n",
      "Epoch 7/50 - Train Loss: 1.2413 - Val Loss: 1.1615\n",
      "Epoch 8/50 - Train Loss: 1.1004 - Val Loss: 1.0352\n",
      "Epoch 9/50 - Train Loss: 0.9872 - Val Loss: 0.9346\n",
      "Epoch 10/50 - Train Loss: 0.8971 - Val Loss: 0.8544\n",
      "Epoch 11/50 - Train Loss: 0.8251 - Val Loss: 0.7899\n",
      "Epoch 12/50 - Train Loss: 0.7670 - Val Loss: 0.7375\n",
      "Epoch 13/50 - Train Loss: 0.7193 - Val Loss: 0.6941\n",
      "Epoch 14/50 - Train Loss: 0.6797 - Val Loss: 0.6578\n",
      "Epoch 15/50 - Train Loss: 0.6463 - Val Loss: 0.6269\n",
      "Epoch 16/50 - Train Loss: 0.6178 - Val Loss: 0.6004\n",
      "Epoch 17/50 - Train Loss: 0.5932 - Val Loss: 0.5774\n",
      "Epoch 18/50 - Train Loss: 0.5717 - Val Loss: 0.5573\n",
      "Epoch 19/50 - Train Loss: 0.5529 - Val Loss: 0.5396\n",
      "Epoch 20/50 - Train Loss: 0.5362 - Val Loss: 0.5238\n",
      "Epoch 21/50 - Train Loss: 0.5214 - Val Loss: 0.5097\n",
      "Epoch 22/50 - Train Loss: 0.5081 - Val Loss: 0.4971\n",
      "Epoch 23/50 - Train Loss: 0.4961 - Val Loss: 0.4856\n",
      "Epoch 24/50 - Train Loss: 0.4852 - Val Loss: 0.4753\n",
      "Epoch 25/50 - Train Loss: 0.4753 - Val Loss: 0.4658\n",
      "Epoch 26/50 - Train Loss: 0.4663 - Val Loss: 0.4572\n",
      "Epoch 27/50 - Train Loss: 0.4580 - Val Loss: 0.4492\n",
      "Epoch 28/50 - Train Loss: 0.4504 - Val Loss: 0.4419\n",
      "Epoch 29/50 - Train Loss: 0.4433 - Val Loss: 0.4351\n",
      "Epoch 30/50 - Train Loss: 0.4368 - Val Loss: 0.4288\n",
      "Epoch 31/50 - Train Loss: 0.4307 - Val Loss: 0.4230\n",
      "Epoch 32/50 - Train Loss: 0.4251 - Val Loss: 0.4175\n",
      "Epoch 33/50 - Train Loss: 0.4198 - Val Loss: 0.4124\n",
      "Epoch 34/50 - Train Loss: 0.4148 - Val Loss: 0.4076\n",
      "Epoch 35/50 - Train Loss: 0.4102 - Val Loss: 0.4031\n",
      "Epoch 36/50 - Train Loss: 0.4058 - Val Loss: 0.3989\n",
      "Epoch 37/50 - Train Loss: 0.4017 - Val Loss: 0.3949\n",
      "Epoch 38/50 - Train Loss: 0.3978 - Val Loss: 0.3911\n",
      "Epoch 39/50 - Train Loss: 0.3941 - Val Loss: 0.3875\n",
      "Epoch 40/50 - Train Loss: 0.3906 - Val Loss: 0.3841\n",
      "Epoch 41/50 - Train Loss: 0.3872 - Val Loss: 0.3809\n",
      "Epoch 42/50 - Train Loss: 0.3841 - Val Loss: 0.3778\n",
      "Epoch 43/50 - Train Loss: 0.3810 - Val Loss: 0.3748\n",
      "Epoch 44/50 - Train Loss: 0.3781 - Val Loss: 0.3720\n",
      "Epoch 45/50 - Train Loss: 0.3754 - Val Loss: 0.3693\n",
      "Epoch 46/50 - Train Loss: 0.3727 - Val Loss: 0.3667\n",
      "Epoch 47/50 - Train Loss: 0.3702 - Val Loss: 0.3642\n",
      "Epoch 48/50 - Train Loss: 0.3677 - Val Loss: 0.3618\n",
      "Epoch 49/50 - Train Loss: 0.3654 - Val Loss: 0.3595\n",
      "Epoch 50/50 - Train Loss: 0.3631 - Val Loss: 0.3573\n"
     ]
    },
    {
     "data": {
      "image/png": "[encoded data removed]",
      "text/plain": [
       "<Figure size 640x480 with 1 Axes>"
      ]
     },
     "metadata": {},
     "output_type": "display_data"
    },
    {
     "name": "stderr",
     "output_type": "stream",
     "text": [
      "C:\\Users\\moell\\AppData\\Local\\Temp\\ipykernel_14440\\4290380193.py:90: FutureWarning: You are using `torch.load` with `weights_only=False` (the current default value), which uses the default pickle module implicitly. It is possible to construct malicious pickle data which will execute arbitrary code during unpickling (See https://github.com/pytorch/pytorch/blob/main/SECURITY.md#untrusted-models for more details). In a future release, the default value for `weights_only` will be flipped to `True`. This limits the functions that could be executed during unpickling. Arbitrary objects will no longer be allowed to be loaded via this mode unless they are explicitly allowlisted by the user via `torch.serialization.add_safe_globals`. We recommend you start setting `weights_only=True` for any use case where you don't have full control of the loaded file. Please open an issue on GitHub for any issues related to this experimental feature.\n",
      "  model.load_state_dict(torch.load(\"best_mnist_model.pth\"))\n"
     ]
    },
    {
     "name": "stdout",
     "output_type": "stream",
     "text": [
      "Test Accuracy: 90.29%\n"
     ]
    }
   ],
   "source": [
    "# Implement the network here using PyTorch\n",
    "\n",
    "# class to create two layer network\n",
    "class TwoLayerNN(nn.Module):\n",
    "    def __init__(self, input_size, hidden_size, output_size):\n",
    "        super(TwoLayerNN, self).__init__()\n",
    "        self.fc1 = nn.Linear(input_size, hidden_size)\n",
    "        self.relu = nn.ReLU()\n",
    "        self.fc2 = nn.Linear(hidden_size, output_size)\n",
    "\n",
    "    def forward(self, x):\n",
    "        x = x.view(x.shape[0], -1)  # Flatten input\n",
    "        x = self.fc1(x)\n",
    "        x = self.relu(x)\n",
    "        x = self.fc2(x)\n",
    "        return x\n",
    "    \n",
    "# parameters \n",
    "INPUT_SIZE = 28 * 28    # = 784\n",
    "HIDDEN_SIZE = 128       # had 100 in e0\n",
    "OUTPUT_SIZE = 10        # 10 classes 0-9\n",
    "LEARNING_RATE = 0.01    # just like in e0\n",
    "EPOCHS = 50             # check web for whats good ?\n",
    "EARLY_STOPPING_TOLERANCE = 5\n",
    "\n",
    "model = TwoLayerNN(INPUT_SIZE, HIDDEN_SIZE, OUTPUT_SIZE) # call the class to create the model\n",
    "loss_function = torch.nn.CrossEntropyLoss()\n",
    "optimizer = torch.optim.SGD(model.parameters(), lr=LEARNING_RATE)\n",
    "\n",
    "best_model = None\n",
    "best_val_loss = float('inf')\n",
    "patience = 0\n",
    "train_losses = []\n",
    "val_losses = []\n",
    "\n",
    "for epoch in range(EPOCHS):\n",
    "    \n",
    "    # training\n",
    "    model.train()\n",
    "    train_loss = 0\n",
    "    for images, labels in train_loader:\n",
    "        optimizer.zero_grad()\n",
    "        images = images.view(images.shape[0], -1)  # flatten images\n",
    "        outputs = model(images)\n",
    "        loss = loss_function(outputs, labels)\n",
    "        loss.backward()\n",
    "        optimizer.step()\n",
    "        train_loss += loss.item()\n",
    "\n",
    "    train_loss /= len(train_loader)\n",
    "    train_losses.append(train_loss)\n",
    "\n",
    "    # validation\n",
    "    model.eval()\n",
    "    val_loss = 0\n",
    "    with torch.no_grad():\n",
    "        for images, labels in val_loader:\n",
    "            images = images.view(images.shape[0], -1)\n",
    "            outputs = model(images)\n",
    "            loss = loss_function(outputs, labels)\n",
    "            val_loss += loss.item()\n",
    "\n",
    "    val_loss /= len(val_loader)\n",
    "    val_losses.append(val_loss)\n",
    "\n",
    "    print(f\"Epoch {epoch+1}/{EPOCHS} - Train Loss: {train_loss:.4f} - Val Loss: {val_loss:.4f}\")\n",
    "\n",
    "    if val_loss < best_val_loss:\n",
    "        best_val_loss = val_loss\n",
    "        best_model = copy.deepcopy(model)\n",
    "        patience = 0\n",
    "    else:\n",
    "        patience += 1\n",
    "        if patience >= EARLY_STOPPING_TOLERANCE:\n",
    "            print(\"Early stopping triggered\")\n",
    "            break\n",
    "\n",
    "# Save the best model\n",
    "torch.save(best_model.state_dict(), \"two_one_best.pth\")\n",
    "\n",
    "# Plot training and validation losses\n",
    "plt.plot(train_losses, label=\"Training Loss\")\n",
    "plt.plot(val_losses, label=\"Validation Loss\")\n",
    "plt.xlabel(\"Epoch\")\n",
    "plt.ylabel(\"Loss\")\n",
    "plt.legend()\n",
    "plt.show()\n",
    "\n",
    "# Load best model for evaluation\n",
    "model.load_state_dict(torch.load(\"best_mnist_model.pth\"))\n",
    "model.eval()\n",
    "\n",
    "# Evaluate on Test Set\n",
    "correct, total = 0, 0\n",
    "with torch.no_grad():\n",
    "    for images, labels in test_loader:\n",
    "        images = images.view(images.shape[0], -1)\n",
    "        outputs = model(images)\n",
    "        _, predicted = torch.max(outputs, 1)\n",
    "        correct += (predicted == labels).sum().item()\n",
    "        total += labels.size(0)\n",
    "\n",
    "test_accuracy = 100 * correct / total\n",
    "print(f\"Test Accuracy: {test_accuracy:.2f}%\")\n"
   ]
  },
  {
   "cell_type": "markdown",
   "metadata": {},
   "source": [
    "## Task 3\n",
    "\n",
    "Implement a 2-layer neural network like above, but now without using a high-level machine learning library like pytorch. The network should function in the same way as the network in Task 2. The code block below contains code to change the training data from the DataLoader format to the \"raw\" numpy format. It also contains some comments to guide you in the right direction. The substasks involved are\n",
    "\n",
    "* Implementation of a 2 layer NN using numpy\n",
    "* Training and validation of the 2 layer NN\n",
    "    - Once again, save the best performing model (can be done in memory)\n",
    "* Graph the training vs validation loss\n",
    "* At least 50% accuracy on the validation data (can be hard to get high accuracy)\n",
    "\n",
    "**Note that the solution does not need to be fast/scalable, thus it is OK to develop a custom solution with, e.g., two explicit weight matrix variables representing the two layers.**\n",
    "\n",
    "### The foward pass\n",
    "This is easy. Recall that each differnt layer is calculated by the formula: \n",
    "$$ y = g(\\mathbf{W}*\\mathbf{x} + b) $$\n",
    "where $W$ is the weight matrix, $x$ the input, $b$ the bias and $g$ the non-linearity. For this exercise you are allowed to put $b = 0$ for simplicity when calculating the backwards pass.\n",
    "\n",
    "### Backward pass\n",
    "This can be tricky. In canvas there is lecture material which explains back propogation and all the maths behind it. It should be under *Modules > Artificial Neural Networks (ANN) - Part 1 > Lecture: Backpropagation derivation.mp4*. This, the supplementary material for the lecture, together with the course book should be enough material for you to be able to implement the training algorithm.\n",
    "\n",
    "### Weight update\n",
    "Once you have calculated the gradient of both weight matrixes, this is updated by:\n",
    "$$ W_i = W_i - \\gamma \\dfrac{dL}{dW_i} $$\n",
    "where $\\gamma$ is the step size, or learning rate.\n",
    "\n",
    "***Remember*** to run all your code before grading so the teacher doesn't have to wait around for long training runs."
   ]
  },
  {
   "cell_type": "code",
   "execution_count": null,
   "metadata": {
    "collapsed": false
   },
   "outputs": [],
   "source": [
    "import numpy as np\n",
    "import matplotlib.pyplot as plt\n",
    "import sys\n",
    "\n",
    "epochs = 10  # Set the number of epochs to train for\n",
    "D_in = 784   # Input size, images are 28x28 = 784 element vectors\n",
    "D_out = 10   # Output size, 10 digit classes\n",
    "H1 = 100     # Hidden layer size\n",
    "gamma = 1e-5 # Learning rate\n",
    "\n",
    "# Define network with one hidden layer, random initial weights\n",
    "w1 = np.random.randn(D_in, H1) * np.sqrt(1/D_in)\n",
    "w2 = np.random.randn(H1, D_out) * np.sqrt(1/H1)\n",
    "\n",
    "# Training iterations\n",
    "\n",
    "# Train for a number of epochs\n",
    "for epoch in range(epochs):\n",
    "    # Training by looping over training set\n",
    "    for inputs, labels in ...\n",
    "        inputs = inputs.numpy()\n",
    "        labels = labels.numpy()\n",
    "        \n",
    "        for i in range(batch_size):\n",
    "            # iterate through the mini-batch and perform forward pass and backward pass\n",
    "            x = inputs[i].reshape((1, D_in))\n",
    "            y = np.eye(10)[labels[i]]    # 1-hot encoding\n",
    "\n",
    "            # Forward pass\n",
    "            h = ...\n",
    "            h_relu = ...\n",
    "            y_pred = ...\n",
    "\n",
    "            # Compute loss function, squared error\n",
    "            loss_function.append( ... )\n",
    "\n",
    "            # Compute gradients of square-error loss with respect to w1 and w2 using backpropagation\n",
    "            # HINT: see the equations above. Discuss with your colleagues and/or an AI chatbot to ensure that you understand and can motivate each step\n",
    "            grad_y_pred = ...\n",
    "            grad_w2 = ...\n",
    "            grad_h_relu = ...\n",
    "            grad_h = ...\n",
    "            grad_w1 = ...\n",
    "\n",
    "            # Update weights (stochastic gradient descent)\n",
    "            w1 -= ...\n",
    "            w2 -= ...\n",
    "\n",
    "    # Validate the model\n",
    "\n",
    "    \n",
    "# Plot training and validation loss\n",
    "\n",
    "total = 0\n",
    "correct = 0\n",
    "\n",
    "# Calculate accuracy on one test batch"
   ]
  },
  {
   "cell_type": "markdown",
   "metadata": {},
   "source": [
    "## Optional programming challenge\n",
    "You have now implemented a 2-layer neural network from scratch! Use this new gained knowledge to create an implementation where we can create and train a network with an arbitrary number of layers and units in each layer. This means that we should be able to specify the structure of the network and then train it using backpropagation."
   ]
  },
  {
   "cell_type": "code",
   "execution_count": null,
   "metadata": {},
   "outputs": [],
   "source": []
  },
  {
   "cell_type": "markdown",
   "metadata": {
    "collapsed": false
   },
   "source": [
    "## End\n",
    "\n",
    "You have now reached the end of ANN1. When you have completed and understood the task above please make sure that all results inluding plots have been computed and then schedule a meeting with a teacher. The teacher will then assess orally that you (the lab group) has completed the exercise and that you understand its essental elements."
   ]
  }
 ],
 "metadata": {
  "kernelspec": {
   "display_name": ".venv",
   "language": "python",
   "name": "python3"
  },
  "language_info": {
   "codemirror_mode": {
    "name": "ipython",
    "version": 3
   },
   "file_extension": ".py",
   "mimetype": "text/x-python",
   "name": "python",
   "nbconvert_exporter": "python",
   "pygments_lexer": "ipython3",
   "version": "3.12.7"
  }
 },
 "nbformat": 4,
 "nbformat_minor": 2
}
